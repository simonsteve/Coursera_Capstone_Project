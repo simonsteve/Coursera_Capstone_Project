{
 "cells": [
  {
   "cell_type": "markdown",
   "id": "c1479de2",
   "metadata": {},
   "source": [
    "#Import libraries"
   ]
  },
  {
   "cell_type": "code",
   "execution_count": 1,
   "id": "1c65f458",
   "metadata": {},
   "outputs": [],
   "source": [
    "import pandas as pd\n",
    "import numpy as np\n",
    "import matplotlib.pyplot as plt\n",
    "import seaborn as sns\n",
    "import datetime"
   ]
  },
  {
   "cell_type": "markdown",
   "id": "7790d341",
   "metadata": {},
   "source": [
    "# Importing All CSV files from June 2021 to May 2022"
   ]
  },
  {
   "cell_type": "code",
   "execution_count": 11,
   "id": "681ea5a2",
   "metadata": {},
   "outputs": [],
   "source": [
    "Jun_2021 = pd.read_csv(\"C:/Users/simon/Documents/csv files/202106-divvy-tripdata.csv\")\n",
    "Jul_2021 = pd.read_csv(\"C:/Users/simon/Documents/csv files/202107-divvy-tripdata.csv\")\n",
    "Aug_2021 = pd.read_csv(\"C:/Users/simon/Documents/csv files/202108-divvy-tripdata.csv\")\n",
    "Sep_2021 = pd.read_csv(\"C:/Users/simon/Documents/csv files/202109-divvy-tripdata.csv\")\n",
    "Oct_2021 = pd.read_csv(\"C:/Users/simon/Documents/csv files/202110-divvy-tripdata.csv\")\n",
    "Nov_2021 = pd.read_csv(\"C:/Users/simon/Documents/csv files/202111-divvy-tripdata.csv\")\n",
    "Dec_2021 = pd.read_csv(\"C:/Users/simon/Documents/csv files/202112-divvy-tripdata.csv\")\n",
    "Jan_2022 = pd.read_csv(\"C:/Users/simon/Documents/csv files/202201-divvy-tripdata.csv\")\n",
    "Feb_2022 = pd.read_csv(\"C:/Users/simon/Documents/csv files/202202-divvy-tripdata.csv\")\n",
    "Mar_2022 = pd.read_csv(\"C:/Users/simon/Documents/csv files/202203-divvy-tripdata.csv\")\n",
    "Apr_2022 = pd.read_csv(\"C:/Users/simon/Documents/csv files/202204-divvy-tripdata.csv\")\n",
    "May_2022 = pd.read_csv(\"C:/Users/simon/Documents/csv files/202205-divvy-tripdata.csv\")\n"
   ]
  },
  {
   "cell_type": "markdown",
   "id": "8035b07d",
   "metadata": {},
   "source": [
    "# Cleaning data - Now Lets merge all files into a single "
   ]
  },
  {
   "cell_type": "code",
   "execution_count": 12,
   "id": "5a20f592",
   "metadata": {},
   "outputs": [],
   "source": [
    "all_months = [Jun_2021,Jul_2021,Aug_2021,Sep_2021,Oct_2021,Nov_2021,Dec_2021,Jan_2022,Feb_2022,Mar_2022,Apr_2022,May_2022]\n",
    "df = pd.concat(all_months)"
   ]
  },
  {
   "cell_type": "code",
   "execution_count": 13,
   "id": "e32656d9",
   "metadata": {},
   "outputs": [
    {
     "data": {
      "text/html": [
       "<div>\n",
       "<style scoped>\n",
       "    .dataframe tbody tr th:only-of-type {\n",
       "        vertical-align: middle;\n",
       "    }\n",
       "\n",
       "    .dataframe tbody tr th {\n",
       "        vertical-align: top;\n",
       "    }\n",
       "\n",
       "    .dataframe thead th {\n",
       "        text-align: right;\n",
       "    }\n",
       "</style>\n",
       "<table border=\"1\" class=\"dataframe\">\n",
       "  <thead>\n",
       "    <tr style=\"text-align: right;\">\n",
       "      <th></th>\n",
       "      <th>ride_id</th>\n",
       "      <th>rideable_type</th>\n",
       "      <th>started_at</th>\n",
       "      <th>ended_at</th>\n",
       "      <th>start_station_name</th>\n",
       "      <th>start_station_id</th>\n",
       "      <th>end_station_name</th>\n",
       "      <th>end_station_id</th>\n",
       "      <th>start_lat</th>\n",
       "      <th>start_lng</th>\n",
       "      <th>end_lat</th>\n",
       "      <th>end_lng</th>\n",
       "      <th>member_casual</th>\n",
       "    </tr>\n",
       "  </thead>\n",
       "  <tbody>\n",
       "    <tr>\n",
       "      <th>0</th>\n",
       "      <td>99FEC93BA843FB20</td>\n",
       "      <td>electric_bike</td>\n",
       "      <td>2021-06-13 14:31:28</td>\n",
       "      <td>2021-06-13 14:34:11</td>\n",
       "      <td>NaN</td>\n",
       "      <td>NaN</td>\n",
       "      <td>NaN</td>\n",
       "      <td>NaN</td>\n",
       "      <td>41.800000</td>\n",
       "      <td>-87.590000</td>\n",
       "      <td>41.80</td>\n",
       "      <td>-87.60</td>\n",
       "      <td>member</td>\n",
       "    </tr>\n",
       "    <tr>\n",
       "      <th>1</th>\n",
       "      <td>06048DCFC8520CAF</td>\n",
       "      <td>electric_bike</td>\n",
       "      <td>2021-06-04 11:18:02</td>\n",
       "      <td>2021-06-04 11:24:19</td>\n",
       "      <td>NaN</td>\n",
       "      <td>NaN</td>\n",
       "      <td>NaN</td>\n",
       "      <td>NaN</td>\n",
       "      <td>41.790000</td>\n",
       "      <td>-87.590000</td>\n",
       "      <td>41.80</td>\n",
       "      <td>-87.60</td>\n",
       "      <td>member</td>\n",
       "    </tr>\n",
       "    <tr>\n",
       "      <th>2</th>\n",
       "      <td>9598066F68045DF2</td>\n",
       "      <td>electric_bike</td>\n",
       "      <td>2021-06-04 09:49:35</td>\n",
       "      <td>2021-06-04 09:55:34</td>\n",
       "      <td>NaN</td>\n",
       "      <td>NaN</td>\n",
       "      <td>NaN</td>\n",
       "      <td>NaN</td>\n",
       "      <td>41.800000</td>\n",
       "      <td>-87.600000</td>\n",
       "      <td>41.79</td>\n",
       "      <td>-87.59</td>\n",
       "      <td>member</td>\n",
       "    </tr>\n",
       "    <tr>\n",
       "      <th>3</th>\n",
       "      <td>B03C0FE48C412214</td>\n",
       "      <td>electric_bike</td>\n",
       "      <td>2021-06-03 19:56:05</td>\n",
       "      <td>2021-06-03 20:21:55</td>\n",
       "      <td>NaN</td>\n",
       "      <td>NaN</td>\n",
       "      <td>NaN</td>\n",
       "      <td>NaN</td>\n",
       "      <td>41.780000</td>\n",
       "      <td>-87.580000</td>\n",
       "      <td>41.80</td>\n",
       "      <td>-87.60</td>\n",
       "      <td>member</td>\n",
       "    </tr>\n",
       "    <tr>\n",
       "      <th>4</th>\n",
       "      <td>B9EEA89F8FEE73B7</td>\n",
       "      <td>electric_bike</td>\n",
       "      <td>2021-06-04 14:05:51</td>\n",
       "      <td>2021-06-04 14:09:59</td>\n",
       "      <td>NaN</td>\n",
       "      <td>NaN</td>\n",
       "      <td>NaN</td>\n",
       "      <td>NaN</td>\n",
       "      <td>41.800000</td>\n",
       "      <td>-87.590000</td>\n",
       "      <td>41.79</td>\n",
       "      <td>-87.59</td>\n",
       "      <td>member</td>\n",
       "    </tr>\n",
       "    <tr>\n",
       "      <th>...</th>\n",
       "      <td>...</td>\n",
       "      <td>...</td>\n",
       "      <td>...</td>\n",
       "      <td>...</td>\n",
       "      <td>...</td>\n",
       "      <td>...</td>\n",
       "      <td>...</td>\n",
       "      <td>...</td>\n",
       "      <td>...</td>\n",
       "      <td>...</td>\n",
       "      <td>...</td>\n",
       "      <td>...</td>\n",
       "      <td>...</td>\n",
       "    </tr>\n",
       "    <tr>\n",
       "      <th>634853</th>\n",
       "      <td>8891BA0053ECEC4F</td>\n",
       "      <td>electric_bike</td>\n",
       "      <td>2022-05-27 22:00:02</td>\n",
       "      <td>2022-05-27 22:07:01</td>\n",
       "      <td>Clark St &amp; Newport St</td>\n",
       "      <td>632</td>\n",
       "      <td>NaN</td>\n",
       "      <td>NaN</td>\n",
       "      <td>41.944557</td>\n",
       "      <td>-87.654830</td>\n",
       "      <td>41.92</td>\n",
       "      <td>-87.65</td>\n",
       "      <td>member</td>\n",
       "    </tr>\n",
       "    <tr>\n",
       "      <th>634854</th>\n",
       "      <td>47D8B5FBCADECFC1</td>\n",
       "      <td>electric_bike</td>\n",
       "      <td>2022-05-15 16:05:39</td>\n",
       "      <td>2022-05-15 16:44:12</td>\n",
       "      <td>Clark St &amp; Newport St</td>\n",
       "      <td>632</td>\n",
       "      <td>NaN</td>\n",
       "      <td>NaN</td>\n",
       "      <td>41.944479</td>\n",
       "      <td>-87.654758</td>\n",
       "      <td>41.92</td>\n",
       "      <td>-87.76</td>\n",
       "      <td>member</td>\n",
       "    </tr>\n",
       "    <tr>\n",
       "      <th>634855</th>\n",
       "      <td>AA8D16CF38B40703</td>\n",
       "      <td>electric_bike</td>\n",
       "      <td>2022-05-21 10:10:13</td>\n",
       "      <td>2022-05-21 10:26:09</td>\n",
       "      <td>Francisco Ave &amp; Bloomingdale Ave</td>\n",
       "      <td>429</td>\n",
       "      <td>NaN</td>\n",
       "      <td>NaN</td>\n",
       "      <td>41.910000</td>\n",
       "      <td>-87.700000</td>\n",
       "      <td>41.92</td>\n",
       "      <td>-87.66</td>\n",
       "      <td>casual</td>\n",
       "    </tr>\n",
       "    <tr>\n",
       "      <th>634856</th>\n",
       "      <td>897EBFD44F329E0A</td>\n",
       "      <td>electric_bike</td>\n",
       "      <td>2022-05-12 07:53:58</td>\n",
       "      <td>2022-05-12 08:01:18</td>\n",
       "      <td>Francisco Ave &amp; Bloomingdale Ave</td>\n",
       "      <td>429</td>\n",
       "      <td>NaN</td>\n",
       "      <td>NaN</td>\n",
       "      <td>41.910000</td>\n",
       "      <td>-87.700000</td>\n",
       "      <td>41.90</td>\n",
       "      <td>-87.69</td>\n",
       "      <td>member</td>\n",
       "    </tr>\n",
       "    <tr>\n",
       "      <th>634857</th>\n",
       "      <td>AAC23AB89E8A7733</td>\n",
       "      <td>electric_bike</td>\n",
       "      <td>2022-05-11 21:14:28</td>\n",
       "      <td>2022-05-11 21:18:16</td>\n",
       "      <td>Clark St &amp; Newport St</td>\n",
       "      <td>632</td>\n",
       "      <td>NaN</td>\n",
       "      <td>NaN</td>\n",
       "      <td>41.944567</td>\n",
       "      <td>-87.654802</td>\n",
       "      <td>41.94</td>\n",
       "      <td>-87.65</td>\n",
       "      <td>member</td>\n",
       "    </tr>\n",
       "  </tbody>\n",
       "</table>\n",
       "<p>5860776 rows × 13 columns</p>\n",
       "</div>"
      ],
      "text/plain": [
       "                 ride_id  rideable_type           started_at  \\\n",
       "0       99FEC93BA843FB20  electric_bike  2021-06-13 14:31:28   \n",
       "1       06048DCFC8520CAF  electric_bike  2021-06-04 11:18:02   \n",
       "2       9598066F68045DF2  electric_bike  2021-06-04 09:49:35   \n",
       "3       B03C0FE48C412214  electric_bike  2021-06-03 19:56:05   \n",
       "4       B9EEA89F8FEE73B7  electric_bike  2021-06-04 14:05:51   \n",
       "...                  ...            ...                  ...   \n",
       "634853  8891BA0053ECEC4F  electric_bike  2022-05-27 22:00:02   \n",
       "634854  47D8B5FBCADECFC1  electric_bike  2022-05-15 16:05:39   \n",
       "634855  AA8D16CF38B40703  electric_bike  2022-05-21 10:10:13   \n",
       "634856  897EBFD44F329E0A  electric_bike  2022-05-12 07:53:58   \n",
       "634857  AAC23AB89E8A7733  electric_bike  2022-05-11 21:14:28   \n",
       "\n",
       "                   ended_at                start_station_name  \\\n",
       "0       2021-06-13 14:34:11                               NaN   \n",
       "1       2021-06-04 11:24:19                               NaN   \n",
       "2       2021-06-04 09:55:34                               NaN   \n",
       "3       2021-06-03 20:21:55                               NaN   \n",
       "4       2021-06-04 14:09:59                               NaN   \n",
       "...                     ...                               ...   \n",
       "634853  2022-05-27 22:07:01             Clark St & Newport St   \n",
       "634854  2022-05-15 16:44:12             Clark St & Newport St   \n",
       "634855  2022-05-21 10:26:09  Francisco Ave & Bloomingdale Ave   \n",
       "634856  2022-05-12 08:01:18  Francisco Ave & Bloomingdale Ave   \n",
       "634857  2022-05-11 21:18:16             Clark St & Newport St   \n",
       "\n",
       "       start_station_id end_station_name end_station_id  start_lat  start_lng  \\\n",
       "0                   NaN              NaN            NaN  41.800000 -87.590000   \n",
       "1                   NaN              NaN            NaN  41.790000 -87.590000   \n",
       "2                   NaN              NaN            NaN  41.800000 -87.600000   \n",
       "3                   NaN              NaN            NaN  41.780000 -87.580000   \n",
       "4                   NaN              NaN            NaN  41.800000 -87.590000   \n",
       "...                 ...              ...            ...        ...        ...   \n",
       "634853              632              NaN            NaN  41.944557 -87.654830   \n",
       "634854              632              NaN            NaN  41.944479 -87.654758   \n",
       "634855              429              NaN            NaN  41.910000 -87.700000   \n",
       "634856              429              NaN            NaN  41.910000 -87.700000   \n",
       "634857              632              NaN            NaN  41.944567 -87.654802   \n",
       "\n",
       "        end_lat  end_lng member_casual  \n",
       "0         41.80   -87.60        member  \n",
       "1         41.80   -87.60        member  \n",
       "2         41.79   -87.59        member  \n",
       "3         41.80   -87.60        member  \n",
       "4         41.79   -87.59        member  \n",
       "...         ...      ...           ...  \n",
       "634853    41.92   -87.65        member  \n",
       "634854    41.92   -87.76        member  \n",
       "634855    41.92   -87.66        casual  \n",
       "634856    41.90   -87.69        member  \n",
       "634857    41.94   -87.65        member  \n",
       "\n",
       "[5860776 rows x 13 columns]"
      ]
     },
     "execution_count": 13,
     "metadata": {},
     "output_type": "execute_result"
    }
   ],
   "source": [
    "df"
   ]
  },
  {
   "cell_type": "markdown",
   "id": "fda5e8d9",
   "metadata": {},
   "source": [
    "#let see what dataframe information we have"
   ]
  },
  {
   "cell_type": "code",
   "execution_count": 15,
   "id": "ae3dddc1",
   "metadata": {},
   "outputs": [
    {
     "name": "stdout",
     "output_type": "stream",
     "text": [
      "<class 'pandas.core.frame.DataFrame'>\n",
      "Int64Index: 5860776 entries, 0 to 634857\n",
      "Data columns (total 13 columns):\n",
      " #   Column              Dtype  \n",
      "---  ------              -----  \n",
      " 0   ride_id             object \n",
      " 1   rideable_type       object \n",
      " 2   started_at          object \n",
      " 3   ended_at            object \n",
      " 4   start_station_name  object \n",
      " 5   start_station_id    object \n",
      " 6   end_station_name    object \n",
      " 7   end_station_id      object \n",
      " 8   start_lat           float64\n",
      " 9   start_lng           float64\n",
      " 10  end_lat             float64\n",
      " 11  end_lng             float64\n",
      " 12  member_casual       object \n",
      "dtypes: float64(4), object(9)\n",
      "memory usage: 626.0+ MB\n"
     ]
    }
   ],
   "source": [
    "df.info()"
   ]
  },
  {
   "cell_type": "markdown",
   "id": "5d83c4af",
   "metadata": {},
   "source": [
    "#Change data type of \"start_time & end_time\" to datetime data type"
   ]
  },
  {
   "cell_type": "code",
   "execution_count": 16,
   "id": "a9a82cd3",
   "metadata": {},
   "outputs": [],
   "source": [
    "df[\"start_time\"] = pd.to_datetime(df[\"started_at\"])\n",
    "df[\"end_time\"] = pd.to_datetime(df[\"ended_at\"])"
   ]
  },
  {
   "cell_type": "markdown",
   "id": "9bbeb289",
   "metadata": {},
   "source": [
    "#Preview of data type changes"
   ]
  },
  {
   "cell_type": "code",
   "execution_count": 19,
   "id": "6a958029",
   "metadata": {},
   "outputs": [
    {
     "name": "stdout",
     "output_type": "stream",
     "text": [
      "<class 'pandas.core.frame.DataFrame'>\n",
      "Int64Index: 5860776 entries, 0 to 634857\n",
      "Data columns (total 16 columns):\n",
      " #   Column              Dtype          \n",
      "---  ------              -----          \n",
      " 0   ride_id             object         \n",
      " 1   rideable_type       object         \n",
      " 2   started_at          object         \n",
      " 3   ended_at            object         \n",
      " 4   start_station_name  object         \n",
      " 5   start_station_id    object         \n",
      " 6   end_station_name    object         \n",
      " 7   end_station_id      object         \n",
      " 8   start_lat           float64        \n",
      " 9   start_lng           float64        \n",
      " 10  end_lat             float64        \n",
      " 11  end_lng             float64        \n",
      " 12  member_casual       object         \n",
      " 13  start_time          datetime64[ns] \n",
      " 14  end_time            datetime64[ns] \n",
      " 15  ride_length         timedelta64[ns]\n",
      "dtypes: datetime64[ns](2), float64(4), object(9), timedelta64[ns](1)\n",
      "memory usage: 760.1+ MB\n"
     ]
    }
   ],
   "source": [
    "df.info()"
   ]
  },
  {
   "cell_type": "markdown",
   "id": "d10b9a59",
   "metadata": {},
   "source": [
    "#Calculate time traveled(ended_at minus started_at) by adding new column \"Ride_Length\""
   ]
  },
  {
   "cell_type": "code",
   "execution_count": 17,
   "id": "daafc368",
   "metadata": {},
   "outputs": [],
   "source": [
    "df[\"ride_length\"] = df[\"end_time\"] - df[\"start_time\"]"
   ]
  },
  {
   "cell_type": "code",
   "execution_count": 18,
   "id": "55f997b9",
   "metadata": {},
   "outputs": [
    {
     "data": {
      "text/plain": [
       "0        0 days 00:02:43\n",
       "1        0 days 00:06:17\n",
       "2        0 days 00:05:59\n",
       "3        0 days 00:25:50\n",
       "4        0 days 00:04:08\n",
       "               ...      \n",
       "634853   0 days 00:06:59\n",
       "634854   0 days 00:38:33\n",
       "634855   0 days 00:15:56\n",
       "634856   0 days 00:07:20\n",
       "634857   0 days 00:03:48\n",
       "Name: ride_length, Length: 5860776, dtype: timedelta64[ns]"
      ]
     },
     "execution_count": 18,
     "metadata": {},
     "output_type": "execute_result"
    }
   ],
   "source": [
    "df[\"ride_length\"]"
   ]
  },
  {
   "cell_type": "markdown",
   "id": "214d1f17",
   "metadata": {},
   "source": [
    "#lets extract the date from \"started_at\" column by spliting it"
   ]
  },
  {
   "cell_type": "code",
   "execution_count": 21,
   "id": "d7c5dc9a",
   "metadata": {},
   "outputs": [
    {
     "data": {
      "text/plain": [
       "0         2021-06-13\n",
       "1         2021-06-04\n",
       "2         2021-06-04\n",
       "3         2021-06-03\n",
       "4         2021-06-04\n",
       "             ...    \n",
       "634853    2022-05-27\n",
       "634854    2022-05-15\n",
       "634855    2022-05-21\n",
       "634856    2022-05-12\n",
       "634857    2022-05-11\n",
       "Name: start_date1, Length: 5860776, dtype: object"
      ]
     },
     "execution_count": 21,
     "metadata": {},
     "output_type": "execute_result"
    }
   ],
   "source": [
    "df[\"start_date1\"] = [i.split(\" \")[0] for i in df[\"started_at\"]]\n",
    "df[\"start_date1\"]"
   ]
  },
  {
   "cell_type": "markdown",
   "id": "d2b5248b",
   "metadata": {},
   "source": [
    "#Change data type of start_date1 to datetime data type"
   ]
  },
  {
   "cell_type": "code",
   "execution_count": 74,
   "id": "9c515923",
   "metadata": {},
   "outputs": [],
   "source": [
    "df[\"start_date1\"] = pd.to_datetime(df[\"start_date1\"])"
   ]
  },
  {
   "cell_type": "markdown",
   "id": "04a263f4",
   "metadata": {},
   "source": [
    "#creating weekday from dates"
   ]
  },
  {
   "cell_type": "code",
   "execution_count": 75,
   "id": "67cbcbd9",
   "metadata": {},
   "outputs": [
    {
     "data": {
      "text/plain": [
       "array([1, 3, 4, 5, 6, 0, 2], dtype=int64)"
      ]
     },
     "execution_count": 75,
     "metadata": {},
     "output_type": "execute_result"
    }
   ],
   "source": [
    "df[\"week_day\"] = df[\"start_date1\"].apply(lambda x: x.weekday())\n",
    "df[\"week_day\"].unique()"
   ]
  },
  {
   "cell_type": "markdown",
   "id": "d38be503",
   "metadata": {},
   "source": [
    "#Change weekday values into weekday"
   ]
  },
  {
   "cell_type": "code",
   "execution_count": 76,
   "id": "ba18cb75",
   "metadata": {},
   "outputs": [
    {
     "data": {
      "text/plain": [
       "75131     Monday\n",
       "24395     Monday\n",
       "5026      Monday\n",
       "5027      Monday\n",
       "71374     Monday\n",
       "           ...  \n",
       "414270    Monday\n",
       "506068    Monday\n",
       "16137     Monday\n",
       "606339    Monday\n",
       "58296     Monday\n",
       "Name: week_day, Length: 5860776, dtype: object"
      ]
     },
     "execution_count": 76,
     "metadata": {},
     "output_type": "execute_result"
    }
   ],
   "source": [
    "wk1 = {0: \"Sunday\", 1: \"Monday\", 2: \"Tuesday\", 3: \"Wednesday\", 4: \"Thursday\", 5: \"Friday\", 6: \"Saturday\"}\n",
    "df[\"week_day\"] = df[\"week_day\"].apply(lambda y: wk1[y])\n",
    "df[\"week_day\"]"
   ]
  },
  {
   "cell_type": "markdown",
   "id": "aa7e6dc3",
   "metadata": {},
   "source": [
    "#sorting dataframe by start date in ascending order"
   ]
  },
  {
   "cell_type": "code",
   "execution_count": 77,
   "id": "bd61bc4a",
   "metadata": {},
   "outputs": [],
   "source": [
    "df.sort_values(by = ['started_at'], inplace = True, ascending = True)"
   ]
  },
  {
   "cell_type": "markdown",
   "id": "d7bbfef5",
   "metadata": {},
   "source": [
    "#now lets drop all rows with NAN Values"
   ]
  },
  {
   "cell_type": "code",
   "execution_count": 78,
   "id": "1d198c39",
   "metadata": {},
   "outputs": [],
   "source": [
    "df.cleaned = df.dropna()"
   ]
  },
  {
   "cell_type": "code",
   "execution_count": 36,
   "id": "4779c6f1",
   "metadata": {},
   "outputs": [],
   "source": [
    "#lets save our cleaned data for further transformation and analysis"
   ]
  },
  {
   "cell_type": "code",
   "execution_count": null,
   "id": "4317f0a0",
   "metadata": {},
   "outputs": [],
   "source": [
    "df.cleaned.to_csv(\"cleaned.csv\")"
   ]
  },
  {
   "cell_type": "markdown",
   "id": "79e005c7",
   "metadata": {},
   "source": [
    "#importing the cleaned data"
   ]
  },
  {
   "cell_type": "code",
   "execution_count": null,
   "id": "a3b9994e",
   "metadata": {},
   "outputs": [],
   "source": [
    "cleaned_data = pd.read_csv('cleaned.csv')"
   ]
  },
  {
   "cell_type": "markdown",
   "id": "9f55e796",
   "metadata": {},
   "source": [
    "#lets view our cleaned data"
   ]
  },
  {
   "cell_type": "code",
   "execution_count": null,
   "id": "038f2d73",
   "metadata": {},
   "outputs": [],
   "source": [
    "cleaned_data"
   ]
  },
  {
   "cell_type": "markdown",
   "id": "525ea7fc",
   "metadata": {},
   "source": [
    "#now calculate Euclidean distance between start_lat & end_lat points & start_lng & end_lng points"
   ]
  },
  {
   "cell_type": "code",
   "execution_count": null,
   "id": "373ed887",
   "metadata": {},
   "outputs": [],
   "source": [
    "cleaned_data[\"x\"] = (cleaned_data['end_lat'] - cleaned_data['start_lat'])**2\n",
    "cleaned_data[\"y\"] = (cleaned_data['end_lng'] - cleaned_data['start_lng'])**2\n",
    "cleaned_data[\"distance\"] = (cleaned_data[\"x\"] + cleaned_data[\"y\"])**(1/2)\n",
    "cleaned_data[\"distance\"]"
   ]
  },
  {
   "cell_type": "markdown",
   "id": "57072f70",
   "metadata": {},
   "source": [
    "#Lets extract year & month from start date column"
   ]
  },
  {
   "cell_type": "code",
   "execution_count": 42,
   "id": "18b3e1a1",
   "metadata": {},
   "outputs": [],
   "source": [
    "cleaned_data['year'] = pd.DatetimeIndex(cleaned_data['start_date1']).year\n",
    "cleaned_data['month'] = pd.DatetimeIndex(cleaned_data['start_date1']).month"
   ]
  },
  {
   "cell_type": "markdown",
   "id": "67003733",
   "metadata": {},
   "source": [
    "#lets convert object data type to timedelta"
   ]
  },
  {
   "cell_type": "code",
   "execution_count": 43,
   "id": "190e2b45",
   "metadata": {},
   "outputs": [],
   "source": [
    "cleaned_data['ride_len'] = pd.to_timedelta(cleaned_data['ride_length'])"
   ]
  },
  {
   "cell_type": "markdown",
   "id": "f4483469",
   "metadata": {},
   "source": [
    "#lets view our more transformed data"
   ]
  },
  {
   "cell_type": "code",
   "execution_count": null,
   "id": "5522d207",
   "metadata": {},
   "outputs": [],
   "source": [
    "cleaned_data"
   ]
  },
  {
   "cell_type": "markdown",
   "id": "5cda4e2d",
   "metadata": {},
   "source": [
    "#we can also check to see if any null values still exist by doing the below"
   ]
  },
  {
   "cell_type": "code",
   "execution_count": 45,
   "id": "ce78def1",
   "metadata": {},
   "outputs": [
    {
     "data": {
      "text/plain": [
       "Unnamed: 0            0\n",
       "ride_id               0\n",
       "rideable_type         0\n",
       "started_at            0\n",
       "ended_at              0\n",
       "start_station_name    0\n",
       "start_station_id      0\n",
       "end_station_name      0\n",
       "end_station_id        0\n",
       "start_lat             0\n",
       "start_lng             0\n",
       "end_lat               0\n",
       "end_lng               0\n",
       "member_casual         0\n",
       "start_time            0\n",
       "end_time              0\n",
       "ride_length           0\n",
       "start_date1           0\n",
       "week_day              0\n",
       "x                     0\n",
       "y                     0\n",
       "distance              0\n",
       "year                  0\n",
       "month                 0\n",
       "ride_len              0\n",
       "dtype: int64"
      ]
     },
     "execution_count": 45,
     "metadata": {},
     "output_type": "execute_result"
    }
   ],
   "source": [
    "cleaned_data.isnull().sum()"
   ]
  },
  {
   "cell_type": "markdown",
   "id": "f62cd2c2",
   "metadata": {},
   "source": [
    "#Further checks to see if any duplicates exist"
   ]
  },
  {
   "cell_type": "code",
   "execution_count": 47,
   "id": "0ea7a5af",
   "metadata": {},
   "outputs": [
    {
     "data": {
      "text/plain": [
       "False"
      ]
     },
     "execution_count": 47,
     "metadata": {},
     "output_type": "execute_result"
    }
   ],
   "source": [
    "cleaned_data.duplicated().any()"
   ]
  },
  {
   "cell_type": "markdown",
   "id": "e57803a3",
   "metadata": {},
   "source": [
    "# Analyzing data"
   ]
  },
  {
   "cell_type": "markdown",
   "id": "87fe8163",
   "metadata": {},
   "source": [
    "#For all ride users, find the mean ride length (MRL)"
   ]
  },
  {
   "cell_type": "code",
   "execution_count": 69,
   "id": "df21fdf7",
   "metadata": {},
   "outputs": [
    {
     "data": {
      "text/plain": [
       "Timedelta('0 days 00:20:12.844583558')"
      ]
     },
     "execution_count": 69,
     "metadata": {},
     "output_type": "execute_result"
    }
   ],
   "source": [
    "mean_ride_length = cleaned_data['ride_len'].mean()\n",
    "mean_ride_length"
   ]
  },
  {
   "cell_type": "markdown",
   "id": "fb0c2cd8",
   "metadata": {},
   "source": [
    "#For all ride users, find the max ride length "
   ]
  },
  {
   "cell_type": "code",
   "execution_count": 70,
   "id": "633760e3",
   "metadata": {},
   "outputs": [
    {
     "data": {
      "text/plain": [
       "Timedelta('38 days 20:24:09')"
      ]
     },
     "execution_count": 70,
     "metadata": {},
     "output_type": "execute_result"
    }
   ],
   "source": [
    "max_ride_length = cleaned_data['ride_len'].max()\n",
    "max_ride_length"
   ]
  },
  {
   "cell_type": "markdown",
   "id": "2730fe36",
   "metadata": {},
   "source": [
    "#lets find the mean ride_length for members"
   ]
  },
  {
   "cell_type": "code",
   "execution_count": 71,
   "id": "90d41246",
   "metadata": {},
   "outputs": [
    {
     "data": {
      "text/plain": [
       "Timedelta('0 days 00:12:40.530618194')"
      ]
     },
     "execution_count": 71,
     "metadata": {},
     "output_type": "execute_result"
    }
   ],
   "source": [
    "mean_ride_length_member = cleaned_data[cleaned_data['member_casual'] =='member']\n",
    "mean_ride_length_member = mean_ride_length_member['ride_len'].mean()\n",
    "mean_ride_length_member"
   ]
  },
  {
   "cell_type": "markdown",
   "id": "13ba8c95",
   "metadata": {},
   "source": [
    "#calculate mean ride for casual riders"
   ]
  },
  {
   "cell_type": "code",
   "execution_count": 72,
   "id": "4162dfe6",
   "metadata": {},
   "outputs": [
    {
     "data": {
      "text/plain": [
       "Timedelta('0 days 00:30:06.018938874')"
      ]
     },
     "execution_count": 72,
     "metadata": {},
     "output_type": "execute_result"
    }
   ],
   "source": [
    "mean_ride_length_casual = cleaned_data[cleaned_data['member_casual'] == 'casual']\n",
    "mean_ride_length_casual = mean_ride_length_casual['ride_len'].mean()\n",
    "mean_ride_length_casual"
   ]
  },
  {
   "cell_type": "markdown",
   "id": "bc5d9495",
   "metadata": {},
   "source": [
    "#lets find the max ride_length for members"
   ]
  },
  {
   "cell_type": "code",
   "execution_count": 73,
   "id": "9ac0b3af",
   "metadata": {},
   "outputs": [
    {
     "data": {
      "text/plain": [
       "Timedelta('1 days 00:55:38')"
      ]
     },
     "execution_count": 73,
     "metadata": {},
     "output_type": "execute_result"
    }
   ],
   "source": [
    "max_ride_length_member = cleaned_data[cleaned_data['member_casual'] =='member']\n",
    "max_ride_length_member = max_ride_length_member['ride_len'].max()\n",
    "max_ride_length_member"
   ]
  },
  {
   "cell_type": "markdown",
   "id": "00a77a9c",
   "metadata": {},
   "source": [
    "#lets find the max ride_length for casual_riders"
   ]
  },
  {
   "cell_type": "code",
   "execution_count": 68,
   "id": "524d2125",
   "metadata": {},
   "outputs": [
    {
     "data": {
      "text/plain": [
       "Timedelta('38 days 20:24:09')"
      ]
     },
     "execution_count": 68,
     "metadata": {},
     "output_type": "execute_result"
    }
   ],
   "source": [
    "max_ride_length_casual = cleaned_data[cleaned_data['member_casual'] == 'casual']\n",
    "max_ride_length_casual = max_ride_length_casual['ride_len'].max()\n",
    "max_ride_length_casual"
   ]
  },
  {
   "cell_type": "code",
   "execution_count": null,
   "id": "a3707ad9",
   "metadata": {},
   "outputs": [],
   "source": []
  }
 ],
 "metadata": {
  "kernelspec": {
   "display_name": "Python 3 (ipykernel)",
   "language": "python",
   "name": "python3"
  },
  "language_info": {
   "codemirror_mode": {
    "name": "ipython",
    "version": 3
   },
   "file_extension": ".py",
   "mimetype": "text/x-python",
   "name": "python",
   "nbconvert_exporter": "python",
   "pygments_lexer": "ipython3",
   "version": "3.9.7"
  }
 },
 "nbformat": 4,
 "nbformat_minor": 5
}
